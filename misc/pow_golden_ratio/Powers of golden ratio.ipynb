{
 "cells": [
  {
   "cell_type": "markdown",
   "metadata": {},
   "source": [
    "# Powers of the golden ratio are close to integers\n",
    "\n",
    "## Introduction\n",
    "\n",
    "The integer higher powers of the \"golden ratio\", $\\phi = \\frac{\\sqrt{5} + 1}{2}$, are surprisingly close to integers. For example,"
   ]
  },
  {
   "cell_type": "code",
   "execution_count": 3,
   "metadata": {
    "collapsed": false
   },
   "outputs": [
    {
     "name": "stdout",
     "output_type": "stream",
     "text": [
      "phi = 1.61803398875\n",
      "phi^20 = 15126.9999339\n"
     ]
    }
   ],
   "source": [
    "import math\n",
    "phi = (math.sqrt(5) + 1.) / 2.\n",
    "print 'phi =', phi\n",
    "print 'phi^20 =', phi ** 20"
   ]
  },
  {
   "cell_type": "code",
   "execution_count": 12,
   "metadata": {
    "collapsed": false
   },
   "outputs": [
    {
     "data": {
      "image/png": "[encoded data removed]",
      "text/plain": [
       "<matplotlib.figure.Figure at 0x10d86df90>"
      ]
     },
     "metadata": {},
     "output_type": "display_data"
    }
   ],
   "source": [
    "import matplotlib.pyplot as plt\n",
    "import numpy as np\n",
    "N = 30\n",
    "n = np.arange(0, N)\n",
    "plt.clf()\n",
    "plt.semilogy(n, np.abs(phi ** n - np.round(phi ** n)))\n",
    "plt.title('Distance between powers of $\\phi$ and the closest integer')\n",
    "plt.xlabel('$n$')\n",
    "plt.ylabel('$|\\phi^n - \\mathrm{round}(\\phi^n)|$')\n",
    "plt.show()"
   ]
  },
  {
   "cell_type": "markdown",
   "metadata": {},
   "source": [
    "## Proof\n",
    "\n",
    "### Fibonacci asymptotics\n",
    "\n",
    "It's well known that the Fibonacci sequence asymptotically approaches a constant multiplied by a power of $\\phi$. More specifically,\n",
    "\n",
    "$F_n = \\frac{1}{\\sqrt{5}}\\phi^n -\\frac{1}{\\sqrt{5}} \\left(-\\frac{1}{\\phi}\\right)^{n}$.\n",
    "\n",
    "That can be seen numerically as follows:"
   ]
  },
  {
   "cell_type": "code",
   "execution_count": 18,
   "metadata": {
    "collapsed": false
   },
   "outputs": [
    {
     "name": "stdout",
     "output_type": "stream",
     "text": [
      "0 1 1 2 3 5 8 13 21 34\n"
     ]
    }
   ],
   "source": [
    "def fib(n):\n",
    "    f0, f1 = 0, 1\n",
    "    for i in xrange(n):\n",
    "        f0, f1 = f1, f0 + f1\n",
    "    return f0\n",
    "for i in xrange(10):\n",
    "    print fib(i),\n",
    "print"
   ]
  },
  {
   "cell_type": "code",
   "execution_count": 21,
   "metadata": {
    "collapsed": false
   },
   "outputs": [
    {
     "name": "stdout",
     "output_type": "stream",
     "text": [
      "0.0 0.0 0.0 0.0 4.4408920985e-16 8.881784197e-16 1.7763568394e-15 1.7763568394e-15 3.5527136788e-15 7.1054273576e-15 1.42108547152e-14 2.84217094304e-14 5.68434188608e-14 5.68434188608e-14 1.70530256582e-13 3.41060513165e-13 4.54747350886e-13 9.09494701773e-13 1.81898940355e-12 2.72848410532e-12 4.54747350886e-12 7.27595761418e-12 1.09139364213e-11 2.18278728426e-11 3.63797880709e-11 5.82076609135e-11 8.73114913702e-11 1.7462298274e-10 2.91038304567e-10 4.65661287308e-10\n"
     ]
    }
   ],
   "source": [
    "def fib_cf(n):\n",
    "    return (phi ** n - (-phi) ** (-n)) / math.sqrt(5)\n",
    "for i in xrange(30):\n",
    "    print abs(fib(i) - fib_cf(i)),\n",
    "print"
   ]
  },
  {
   "cell_type": "markdown",
   "metadata": {},
   "source": [
    "### The desired recurrence\n",
    "\n",
    "We want a recurrence involving powers of $\\phi$ and integers. $\\phi^{-1}$ or $-\\phi^{-1}$ seem desirable as the other root, as they have a simple integer relationship that would be useful for the initial steps. If we start by using a Fibonacci style recurrence:\n",
    "\n",
    "$\\phi^0 + A (-\\phi)^{-0} = B$\n",
    "\n",
    "$\\phi^1 + A (-\\phi)^{-1} = C$\n",
    "\n",
    "Simplifying:\n",
    "\n",
    "$1 + A = B$\n",
    "\n",
    "$\\phi - A (\\phi - 1) = C$\n",
    "\n",
    "Distributing:\n",
    "\n",
    "$1 + A = B$\n",
    "\n",
    "$\\phi(1 - A) + A = C$\n",
    "\n",
    "If we want $B$ and $C$ to be integers, the only choice is $A = 1$ and, consequently, $B = 2$ and $C = 1$. So we have a sequence following the same recurrence as Fibonacci but starting with 2, 1, 3, 4, 7, ...\n",
    "\n",
    "Comparing:"
   ]
  },
  {
   "cell_type": "code",
   "execution_count": 24,
   "metadata": {
    "collapsed": false
   },
   "outputs": [
    {
     "name": "stdout",
     "output_type": "stream",
     "text": [
      "2 1 3 4 7 11 18 29 47 76 123 199 322 521 843 1364 2207 3571 5778 9349\n"
     ]
    }
   ],
   "source": [
    "def seq(n):\n",
    "    f0, f1 = 2, 1\n",
    "    for i in xrange(n):\n",
    "        f0, f1 = f1, f0 + f1\n",
    "    return f0\n",
    "for i in xrange(20):\n",
    "    print seq(i),\n",
    "print"
   ]
  },
  {
   "cell_type": "code",
   "execution_count": 29,
   "metadata": {
    "collapsed": false
   },
   "outputs": [
    {
     "name": "stdout",
     "output_type": "stream",
     "text": [
      "0.0 0.0 0.0 0.0 8.881784197e-16 1.7763568394e-15 3.5527136788e-15 7.1054273576e-15 1.42108547152e-14 2.84217094304e-14 4.26325641456e-14 5.68434188608e-14 1.70530256582e-13 2.27373675443e-13 3.41060513165e-13 6.8212102633e-13 1.36424205266e-12 2.27373675443e-12 3.63797880709e-12 5.45696821064e-12 9.09494701773e-12 1.45519152284e-11 2.91038304567e-11 5.09317032993e-11 8.73114913702e-11 1.16415321827e-10 2.32830643654e-10 4.07453626394e-10 5.82076609135e-10 1.16415321827e-09\n"
     ]
    }
   ],
   "source": [
    "def seq_cf(n):\n",
    "    return phi ** n + (-phi ** -1) ** n\n",
    "for i in xrange(30):\n",
    "    print abs(seq(i) - seq_cf(i)),\n",
    "print"
   ]
  },
  {
   "cell_type": "markdown",
   "metadata": {},
   "source": [
    "Then it is easy to see that the sequence will be integer and, consequently, $\\phi^n$ will only differ from an integer by the exponentially decreasing term $(\\phi^{-1})^n$."
   ]
  }
 ],
 "metadata": {
  "kernelspec": {
   "display_name": "Python 2",
   "language": "python",
   "name": "python2"
  },
  "language_info": {
   "codemirror_mode": {
    "name": "ipython",
    "version": 2
   },
   "file_extension": ".py",
   "mimetype": "text/x-python",
   "name": "python",
   "nbconvert_exporter": "python",
   "pygments_lexer": "ipython2",
   "version": "2.7.12"
  }
 },
 "nbformat": 4,
 "nbformat_minor": 1
}
