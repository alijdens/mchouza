{
 "cells": [
  {
   "cell_type": "code",
   "execution_count": 1,
   "metadata": {},
   "outputs": [],
   "source": [
    "import numpy as np"
   ]
  },
  {
   "cell_type": "code",
   "execution_count": 2,
   "metadata": {},
   "outputs": [],
   "source": [
    "def brute_force(h):\n",
    "    return max((r - l) * min(h[l], h[r])\n",
    "               for r in xrange(1, len(h))\n",
    "               for l in xrange(r))          "
   ]
  },
  {
   "cell_type": "markdown",
   "metadata": {},
   "source": [
    "```\n",
    "public class Solution {\n",
    "    public int maxArea(int[] height) {\n",
    "        int maxarea = 0, l = 0, r = height.length - 1;\n",
    "        while (l < r) {\n",
    "            maxarea = Math.max(maxarea, Math.min(height[l], height[r]) * (r - l));\n",
    "            if (height[l] < height[r])\n",
    "                l++;\n",
    "            else\n",
    "                r--;\n",
    "        }\n",
    "        return maxarea;\n",
    "    }\n",
    "}\n",
    "```"
   ]
  },
  {
   "cell_type": "code",
   "execution_count": 5,
   "metadata": {},
   "outputs": [],
   "source": [
    "def given_solution(h):\n",
    "    s = l = 0\n",
    "    r = len(h) - 1\n",
    "    while l < r:\n",
    "        s = max(s, min(h[l], h[r]) * (r - l))\n",
    "        if h[l] <= h[r]: # the extra = just changes the tie break\n",
    "            l += 1\n",
    "        else:\n",
    "            r -= 1\n",
    "    return s"
   ]
  },
  {
   "cell_type": "code",
   "execution_count": 6,
   "metadata": {},
   "outputs": [],
   "source": [
    "np.random.seed(1337)\n",
    "for i in xrange(100):\n",
    "    p = np.random.randint(low=0, high=20, size=10)\n",
    "    if brute_force(p) != given_solution(p):\n",
    "        assert False"
   ]
  },
  {
   "cell_type": "markdown",
   "metadata": {},
   "source": [
    "Let's assume a solution is between $l$ and $r$, so there are optimal values for both, $l_{opt}$ and $r_{opt}$, satisfying $l \\le l_{opt} < r_{opt} \\le r$ (we know we can impose $l_{opt} < r_{opt}$ because any candidate is already non-negative). WLOG, we can assume $h_l \\le h_r$ and analyze why we are not discarding any possibly better solutions when moving to $l' = l + 1$.\n",
    "\n",
    "The only possible candidates we are losing by that step are solution with $l$ as the left barrier and a right barrier $r'$ satisfying $l < r' < r$ (we can impose the first inequality because of the non-negativity of the existing solutions and the second one because we have already considered the solution with $l$ and $r$ as barriers). But then the possible values are bounded by the original solution:\n",
    "\n",
    "$\\displaystyle \\min(h_l, h_{r'}) (r' - l) \\le h_l (r' - l)$ (minimum bounded by one argument)\n",
    "\n",
    "$\\displaystyle \\le \\min(h_l, h_r) (r' - l)$ (by hypothesis $\\min(h_l, h_r) = h_l$)\n",
    "\n",
    "$\\displaystyle < \\min(h_l, h_r) (r - l)$ (because $r' < r$)\n",
    "\n",
    "So no better solutions are being discarded by the step."
   ]
  }
 ],
 "metadata": {
  "kernelspec": {
   "display_name": "Python 2",
   "language": "python",
   "name": "python2"
  },
  "language_info": {
   "codemirror_mode": {
    "name": "ipython",
    "version": 2
   },
   "file_extension": ".py",
   "mimetype": "text/x-python",
   "name": "python",
   "nbconvert_exporter": "python",
   "pygments_lexer": "ipython2",
   "version": "2.7.15"
  }
 },
 "nbformat": 4,
 "nbformat_minor": 2
}
