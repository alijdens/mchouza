{
 "cells": [
  {
   "cell_type": "markdown",
   "metadata": {},
   "source": [
    "# Positivity of quantum relative entropy\n",
    "\n",
    "## Definition\n",
    "\n",
    "The quantum relative entropy can be defined as\n",
    "\n",
    "$D(\\rho, \\sigma) = \\mathrm{tr}\\,\\rho (\\log \\rho - \\log \\sigma)$,\n",
    "\n",
    "where $\\rho$ and $\\sigma$ are density matrices, satisfying $\\rho^\\dagger = \\rho$, $\\mathrm{tr}\\,\\rho = 1$ and the analogous relationships for $\\sigma$.\n",
    "\n",
    "## Initial steps\n",
    "\n",
    "We choose eigenbases for $\\rho$ and $\\sigma$, $\\{\\mathbf{v}_i\\}$ and $\\{\\mathbf{w}_j\\}$, respectively. Both are orthogonal bases, as $\\rho$ and $\\sigma$ are Hermitian. Then we can express them and their functions as a sum of projection operators,\n",
    "\n",
    "$\\rho = \\sum_i \\rho_i \\left|\\mathbf{v}_i \\rangle\\langle \\mathbf{v}_i \\right|$\n",
    "\n",
    "$\\sigma = \\sum_j \\sigma_j \\left|\\mathbf{w}_j \\rangle\\langle \\mathbf{w}_j \\right|$.\n",
    "\n",
    "Now the original expression can be rewritten as\n",
    "\n",
    "$D(\\rho, \\sigma) = \\mathrm{tr}\\,\\left(\\sum_i \\rho_i \\left|\\mathbf{v}_i \\rangle\\langle \\mathbf{v}_i \\right|\\right) \\left(\\sum_j \\log \\rho_j \\left|\\mathbf{v}_j \\rangle\\langle \\mathbf{v}_j \\right| - \\sum_k \\log \\sigma_k \\left|\\mathbf{w}_k \\rangle\\langle \\mathbf{w}_k \\right|\\right)$\n",
    "\n",
    "$ = \\sum_l \\left\\langle \\mathbf{v}_l \\right| \\,\\left(\\sum_i \\rho_i \\left|\\mathbf{v}_i \\rangle\\langle \\mathbf{v}_i \\right|\\right) \\left(\\sum_j \\log \\rho_j \\left|\\mathbf{v}_j \\rangle\\langle \\mathbf{v}_j \\right| - \\sum_k \\log \\sigma_k \\left|\\mathbf{w}_k \\rangle\\langle \\mathbf{w}_k \\right|\\right) \\left| \\mathbf{v}_l \\right\\rangle$.\n",
    "\n",
    "By distributing and contracting, using the fact that $\\{\\mathbf{v}_i\\}$ is an orthogonal basis,\n",
    "\n",
    "$D(\\rho, \\sigma) = \\sum_l \\sum_i \\sum_j \\rho_i \\log \\rho_j \\left\\langle \\mathbf{v}_l \\mid \\mathbf{v}_i \\right\\rangle\\left\\langle \\mathbf{v}_i \\mid \\mathbf{v}_j \\right\\rangle\\left\\langle \\mathbf{v}_j \\mid \\mathbf{v}_l \\right\\rangle - \\sum_l \\sum_i \\sum_k \\rho_i \\log \\sigma_k \\left\\langle \\mathbf{v}_l \\mid \\mathbf{v}_i \\right\\rangle\\left\\langle \\mathbf{v}_i \\mid \\mathbf{w}_k \\right\\rangle\\left\\langle \\mathbf{w}_k \\mid \\mathbf{v}_l \\right\\rangle$\n",
    "\n",
    "$ = \\sum_l \\sum_i \\sum_j \\rho_i \\log \\rho_j \\delta_{li} \\delta_{ij} \\delta_{jl} - \\sum_l \\sum_i \\sum_k \\rho_i \\log \\sigma_k \\delta_{li}\\left\\langle \\mathbf{v}_i \\mid \\mathbf{w}_k \\right\\rangle\\left\\langle \\mathbf{w}_k \\mid \\mathbf{v}_l \\right\\rangle$\n",
    "\n",
    "$ = \\sum_i \\rho_i \\log \\rho_i - \\sum_i \\sum_k \\rho_i \\log \\sigma_k \\left\\langle \\mathbf{v}_i \\mid \\mathbf{w}_k \\right\\rangle\\left\\langle \\mathbf{w}_k \\mid \\mathbf{v}_i \\right\\rangle$\n",
    "\n",
    "$ = \\sum_i \\rho_i \\log \\rho_i - \\sum_i \\sum_k \\rho_i \\log \\sigma_k \\, \\left|\\left\\langle \\mathbf{w}_k \\mid \\mathbf{v}_i \\right\\rangle\\right|^2$\n",
    "\n",
    "$ = \\sum_i \\rho_i \\log \\rho_i - \\sum_i \\rho_i \\sum_k  \\left|\\left\\langle \\mathbf{w}_k \\mid \\mathbf{v}_i \\right\\rangle\\right|^2 \\log \\sigma_k$\n",
    "\n",
    "## Ideas\n",
    "\n",
    "It is not so clear how to proceed here. We know that\n",
    "\n",
    "$\\sum_k \\left|\\left\\langle \\mathbf{w}_k \\mid \\mathbf{v}_i \\right\\rangle\\right|^2 = \\sum_k \\left\\langle \\mathbf{v}_i \\mid \\mathbf{w}_k \\right\\rangle\\left\\langle \\mathbf{w}_k \\mid \\mathbf{v}_i \\right\\rangle$\n",
    "\n",
    "and, using the fact that $\\sum_k \\left| \\mathbf{w}_k \\right\\rangle \\left\\langle \\mathbf{w}_k \\right|$ is the identity,\n",
    "\n",
    "$\\sum_k \\left|\\left\\langle \\mathbf{w}_k \\mid \\mathbf{v}_i \\right\\rangle\\right|^2 = \\left\\langle \\mathbf{v}_i \\mid \\mathbf{v}_i \\right\\rangle$\n",
    "\n",
    "$ = 1$,\n",
    "\n",
    "but the sum in our problem is weighted by the values of $\\log \\sigma_k$.\n",
    "\n",
    "It's also non obvious how to combine addition with logarithms, but maybe the unit sum makes \"some type of averaging\" take place. We can do some numerical experiments to try to see if it's plausible.\n",
    "\n",
    "### Numerical experiments"
   ]
  },
  {
   "cell_type": "code",
   "execution_count": 6,
   "metadata": {
    "collapsed": false
   },
   "outputs": [
    {
     "name": "stdout",
     "output_type": "stream",
     "text": [
      "3.60972651563 4.02047572679\n",
      "4.04870045065 4.17022709276\n",
      "3.44331402991 4.18030363426\n",
      "3.64073267394 3.83489746741\n",
      "3.78112254381 3.9972840142\n"
     ]
    }
   ],
   "source": [
    "import numpy as np\n",
    "np.random.seed(1234)\n",
    "def do_comparison(num_tries, num_coeffs, max_value):\n",
    "    for i in range(num_tries):\n",
    "        coeffs = np.random.random(size=num_coeffs)\n",
    "        coeffs /= np.sum(coeffs)\n",
    "        values = np.random.random(size=num_coeffs) * max_value\n",
    "        avg_of_logs = np.sum(coeffs * np.log(values))\n",
    "        log_of_avg = np.log(np.sum(coeffs * values))\n",
    "        print avg_of_logs, log_of_avg\n",
    "do_comparison(5, 10, 100)"
   ]
  },
  {
   "cell_type": "markdown",
   "metadata": {},
   "source": [
    "The RHS seems to be bigger for some reason. Doing a more stringent numerical test:"
   ]
  },
  {
   "cell_type": "code",
   "execution_count": 11,
   "metadata": {
    "collapsed": false
   },
   "outputs": [
    {
     "name": "stdout",
     "output_type": "stream",
     "text": [
      "0.00292479134115 2.73141447699\n"
     ]
    }
   ],
   "source": [
    "np.random.seed(4321)\n",
    "coeffs = np.random.random(size=(1000000, 10))\n",
    "coeffs /= np.sum(coeffs, axis=1, keepdims=True)\n",
    "values = np.random.random(size=(1000000, 10)) * 100\n",
    "avgs_of_logs = np.sum(coeffs * np.log(values), axis=1)\n",
    "logs_of_avgs = np.log(np.sum(coeffs * values, axis=1))\n",
    "diffs = logs_of_avgs - avgs_of_logs\n",
    "print np.min(diffs), np.max(diffs)"
   ]
  },
  {
   "cell_type": "markdown",
   "metadata": {},
   "source": [
    "Clearly positive, though the reason in unclear. Plotting the case of two values:"
   ]
  },
  {
   "cell_type": "code",
   "execution_count": 19,
   "metadata": {
    "collapsed": false
   },
   "outputs": [
    {
     "data": {
      "image/png": "[encoded data removed]",
      "text/plain": [
       "<matplotlib.figure.Figure at 0x125ade3d0>"
      ]
     },
     "metadata": {},
     "output_type": "display_data"
    }
   ],
   "source": [
    "import matplotlib.pyplot as plt\n",
    "x = np.arange(0.1, 10.0, 0.01)\n",
    "points = np.array([1.5, 4])\n",
    "coeffs = np.array([0.3, 0.7])\n",
    "avg_of_pos = np.sum(coeffs * points, keepdims=True)\n",
    "avg_of_logs = np.sum(coeffs * np.log(points), keepdims=True)\n",
    "log_of_avgs = np.log(avg_of_pos)\n",
    "plt.plot(x, np.log(x), 'r--', points, np.log(points), 'bo', avg_of_pos, avg_of_logs, 'ro', avg_of_pos, log_of_avgs, 'go')\n",
    "plt.show()"
   ]
  },
  {
   "cell_type": "markdown",
   "metadata": {},
   "source": [
    "It seems to be related to the convexity of the function, its second derivative being positive.\n",
    "\n",
    "### Convexity\n",
    "\n",
    "Let's try to prove then that given a set of positions $x_i$ and a set of non-negative weights $w_i$ such that $\\sum_i w_i = 1$,\n",
    "\n",
    "$\\sum_i w_i \\log x_i \\le \\log \\sum_i w_i x_i$.\n",
    "\n",
    "We can use the fact that we can built a convex combination of positions inductively, so let's start with the case of two values $x_1 < x_2$. Intuitively we can think of the difference as being due to all the higher slopes being between $x_1$ and $w_1 x_1 + w_2 x_2$, with strictly lower slopes afterwards. \n",
    "\n",
    "If we write that difference generically,\n",
    "\n",
    "$f(w_1 x_1 + w_2 x_2) - \\left(w_1 f(x_1) + w_2 f(x_2)\\right) = f(x_1) + \\int_{x_1}^{w_1 x_1 + w_2 x_2} dx\\,f'(x) - w_1 f(x_1) - w_2 \\left(f(x_1) + \\int_{x_1}^{x_2} dx\\,f'(x)\\right)$\n",
    "\n",
    "$ = f(x_1) + \\int_{x_1}^{w_1 x_1 + w_2 x_2} dx\\,f'(x) - w_1 f(x_1) - w_2 f(x_1) - w_2 \\int_{x_1}^{x_2} dx\\,f'(x)$\n",
    "\n",
    "$ = \\int_{x_1}^{w_1 x_1 + w_2 x_2} dx\\,f'(x) - w_2 \\int_{x_1}^{x_2} dx\\,f'(x)$\n",
    "\n",
    "$ = \\int_{x_1}^{w_1 x_1 + w_2 x_2} dx\\,f'(x) - w_2 \\left(\\int_{x_1}^{w_1 x_1 + w_2 x_2} dx\\,f'(x) + \\int_{w_1 x_1 + w_2 x_2}^{x_2} dx\\,f'(x)\\right)$\n",
    "\n",
    "$ = w_1 \\int_{x_1}^{w_1 x_1 + w_2 x_2} dx\\,f'(x) - w_2 \\int_{w_1 x_1 + w_2 x_2}^{x_2} dx\\,f'(x)$.\n",
    "\n",
    "By using the mean value theorem for definite integrals, we know we have $x_A$ and $x_B$ such that\n",
    "\n",
    "$x_1 \\le x_A \\le w_1 x_1 + w_2 x_2 \\le x_B \\le x_2$,\n",
    "\n",
    "$\\int_{x_1}^{w_1 x_1 + w_2 x_2} dx\\,f(x) = (w_1 x_1 + w_2 x_2 - x_1) f'(x_A)$ and\n",
    "\n",
    "$\\int_{w_1 x_1 + w_2 x_2}^{x_2} dx\\,f(x) = (x_2 - w_1 x_1 + w_2 x_2) f'(x_B)$.\n",
    "\n",
    "Replacing:\n",
    "\n",
    "$f(w_1 x_1 + w_2 x_2) - \\left(w_1 f(x_1) + w_2 f(x_2)\\right) = w_1 (w_1 x_1 + w_2 x_2 - x_1) f'(x_A) - w_2 (x_2 - w_1 x_1 - w_2 x_2) f'(x_B)$\n",
    "\n",
    "$ = w_1 (w_2 x_2 - w_2 x_1) f'(x_A) - w_2 (w_1 x_2 - w_1 x_1) f'(x_B)$\n",
    "\n",
    "$ = w_1 (w_2 x_2 - w_2 x_1) f'(x_A) - w_2 (w_1 x_2 - w_1 x_1) f'(x_B)$\n",
    "\n",
    "$ = w_1 w_2 (x_2 - x_1) f'(x_A) - w_1 w_2 (x_2 - x_1) f'(x_B)$\n",
    "\n",
    "$ = w_1 w_2 (x_2 - x_1) (f'(x_A) - f'(x_B))$\n",
    "\n",
    "If $f''(x) \\le 0$, we know the expression will be non-negative."
   ]
  },
  {
   "cell_type": "code",
   "execution_count": null,
   "metadata": {
    "collapsed": true
   },
   "outputs": [],
   "source": []
  },
  {
   "cell_type": "code",
   "execution_count": null,
   "metadata": {
    "collapsed": true
   },
   "outputs": [],
   "source": []
  }
 ],
 "metadata": {
  "kernelspec": {
   "display_name": "Python 2",
   "language": "python",
   "name": "python2"
  },
  "language_info": {
   "codemirror_mode": {
    "name": "ipython",
    "version": 2
   },
   "file_extension": ".py",
   "mimetype": "text/x-python",
   "name": "python",
   "nbconvert_exporter": "python",
   "pygments_lexer": "ipython2",
   "version": "2.7.12"
  }
 },
 "nbformat": 4,
 "nbformat_minor": 1
}
