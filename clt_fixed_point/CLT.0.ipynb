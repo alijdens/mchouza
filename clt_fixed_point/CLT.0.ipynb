{
 "cells": [
  {
   "cell_type": "markdown",
   "metadata": {},
   "source": [
    "# Section 0. What is the Central Limit Theorem?\n",
    "\n",
    "## Introduction\n",
    "\n",
    "There are two usual ways of justifying the widespread usage of the Gaussian or \"normal\" distribution. One is that of convenience: [TODO: TALK ABOUT SPECIAL PROPERTIES]. The second one, somewhat related, is through the Central Limit Theorem. Informally speaking we can express it as:\n",
    "\n",
    "> The distribution of the sum of many small independent random variables converges to the normal distribution, with mean and variance equal to the sums of those magnitudes in the original variables.\n",
    "\n",
    "[TODO: ADD MORE]\n",
    "\n",
    "## Some examples\n",
    "\n",
    "We can see this theorem in action by seeing how the sum of independent random variables with different distributions ends distributed. We can start by creating series of random variables distributed in many different ways:"
   ]
  },
  {
   "cell_type": "code",
   "execution_count": null,
   "metadata": {
    "collapsed": false
   },
   "outputs": [],
   "source": [
    "import numpy as np\n",
    "import matplotlib.mlab as mlab\n",
    "import matplotlib.pyplot as plt\n",
    "np.random.seed(1234)\n",
    "\n",
    "# number of examples of each class to use\n",
    "N = 1000000\n",
    "\n",
    "# number of bins\n",
    "B = 200\n",
    "\n",
    "# defines N uniform, triangular, exponential variables\n",
    "uniform_vars = np.random.uniform(0, 1, N)\n",
    "triangular_vars = np.random.triangular(0, 1, 3, N)\n",
    "exponential_vars = np.random.exponential(3, N)\n",
    "bernoulli_vars = np.random.choice(2, N)\n",
    "\n",
    "# plots their distributions\n",
    "fig, axs = plt.subplots(2,2, figsize=(15, 5))    \n",
    "axs[0,0].hist(uniform_vars, B, normed=1)\n",
    "axs[0,1].hist(triangular_vars, B, normed=1)\n",
    "axs[1,0].hist(exponential_vars, B, normed=1)\n",
    "axs[1,1].hist(bernoulli_vars, B, normed=1)\n",
    "plt.show()"
   ]
  },
  {
   "cell_type": "markdown",
   "metadata": {},
   "source": [
    "If we now group them in groups of a relatively small size and sum them, we observe s surprising convergence in distribution shapes,"
   ]
  },
  {
   "cell_type": "code",
   "execution_count": null,
   "metadata": {
    "collapsed": false
   },
   "outputs": [],
   "source": [
    "B = 200\n",
    "G = 100\n",
    "\n",
    "# summing them in groups of size G\n",
    "def group_sum(rv):\n",
    "    return rv.reshape((G, -1)).sum(axis=0)\n",
    "sum_uv = group_sum(uniform_vars)\n",
    "sum_tv = group_sum(triangular_vars)\n",
    "sum_ev = group_sum(exponential_vars)\n",
    "sum_bv = group_sum(bernoulli_vars)\n",
    "\n",
    "# plots their distributions\n",
    "fig, axs = plt.subplots(2,2, figsize=(15, 5))    \n",
    "axs[0,0].hist(sum_uv, B, normed=1)\n",
    "axs[0,1].hist(sum_tv, B, normed=1)\n",
    "axs[1,0].hist(sum_ev, B, normed=1)\n",
    "axs[1,1].hist(sum_bv, B, normed=1)\n",
    "plt.show()"
   ]
  },
  {
   "cell_type": "markdown",
   "metadata": {},
   "source": [
    "with some important differences:\n",
    "\n",
    "  * Mean and variance.\n",
    "  * The sum of Bernoulli variables only ends up occupying integer values (\"conserved quantity\")."
   ]
  }
 ],
 "metadata": {
  "kernelspec": {
   "display_name": "Python 2",
   "language": "python",
   "name": "python2"
  },
  "language_info": {
   "codemirror_mode": {
    "name": "ipython",
    "version": 2
   },
   "file_extension": ".py",
   "mimetype": "text/x-python",
   "name": "python",
   "nbconvert_exporter": "python",
   "pygments_lexer": "ipython2",
   "version": "2.7.12"
  }
 },
 "nbformat": 4,
 "nbformat_minor": 1
}
